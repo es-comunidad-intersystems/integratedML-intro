{
 "cells": [
  {
   "cell_type": "markdown",
   "metadata": {},
   "source": [
    "# Introducción a Machine Learning con IRIS"
   ]
  },
  {
   "cell_type": "markdown",
   "metadata": {},
   "source": [
    "# Contenidos\n",
    "\n",
    "## 1. Introducción\n",
    "\n",
    "## 2. Datos\n",
    "\n",
    "### 2.1 Fuente de datos\n",
    "\n",
    "### 2.2 Limpieza de datos\n",
    "\n",
    "### 2.3 Codificación de valores\n",
    "\n",
    "### 2.4 Estudio de los datos\n",
    "\n",
    "## 3. Entrenar el modelo\n",
    "\n",
    "## 4. Validar el modelo\n",
    "\n",
    "## 5. Predicciones\n",
    "\n",
    "## 6. Conclusiones\n",
    "\n"
   ]
  },
  {
   "cell_type": "markdown",
   "metadata": {},
   "source": [
    "----------------"
   ]
  },
  {
   "cell_type": "markdown",
   "metadata": {},
   "source": [
    "## 1. Introducción\n",
    "Existen dos tipos de problemas a tratar con ML:\n",
    "    1. Supervisados: Los datos está etiquetados, el motor de ML usa las etiquetas para aprender.\n",
    "    2. No supervisados: Intentamos que el método aprenda solo, sin ningún tipo de etiquetado.\n",
    "\n",
    "En este webinar nos vamos a centrar en los supervisados"
   ]
  },
  {
   "cell_type": "markdown",
   "metadata": {},
   "source": [
    "\n",
    "### Supervisados\n",
    "Son de dos tipos fundamentales:\n",
    "    1. Clasificación: se predice una propiedad: ¿es un gato o un perro?.\n",
    "    2. Regresión: se predice el valor numérico de una propiedad. Por ejemplo el valor de un piso."
   ]
  },
  {
   "cell_type": "markdown",
   "metadata": {},
   "source": [
    "### Paquetes python"
   ]
  },
  {
   "cell_type": "code",
   "execution_count": null,
   "metadata": {},
   "outputs": [],
   "source": [
    "# Import packages\n",
    "%matplotlib inline\n",
    "import pandas as pd\n",
    "import numpy as np\n",
    "import matplotlib.pyplot as plt\n",
    "import seaborn as sns\n",
    "import time\n",
    "\n",
    "# Sklearn Packages\n",
    "from sklearn.model_selection import train_test_split\n",
    "\n",
    "# Visualizes all the columns\n",
    "pd.set_option('display.max_columns', None)\n",
    "\n",
    "import warnings\n",
    "warnings.filterwarnings(\"ignore\", category=DeprecationWarning)\n",
    "warnings.filterwarnings(\"ignore\", category=FutureWarning)"
   ]
  },
  {
   "cell_type": "markdown",
   "metadata": {},
   "source": [
    "### Pandas dataframes\n",
    "\n",
    "Los Pandas dataframes son una estructura de datos bidimensional, mutable y que puede guardar datos heterogéneos.\n",
    "\n",
    "Vamos a guardar y leer Pandas dataframes usando IRIS, para ello empleamos el código de este artículo de la [developer community](https://community.intersystems.com/post/save-pandas-dataframe-iris-quick-note)"
   ]
  },
  {
   "cell_type": "code",
   "execution_count": null,
   "metadata": {},
   "outputs": [],
   "source": [
    "def to_sql_iris(cursor, dataFrame, tableName, schemaName='SQLUser', drop_table=False ):\n",
    "        \"\"\"\"\n",
    "        Dynamically insert dataframe into an IRIS table via SQL by \"excutemany\" \n",
    "        \n",
    "        Inputs:\n",
    "            cursor:      Python JDBC or PyODBC cursor from a valid and establised DB connection\n",
    "            dataFrame:   Pandas dataframe\n",
    "            tablename:   IRIS SQL table to be created, inserted or apended\n",
    "            schemaName:  IRIS schemaName, default to \"SQLUser\"\n",
    "            drop_table:  If the table already exsits, drop it and re-create it if True; othrewise keep it and appen \n",
    "        Output:\n",
    "            True is successful; False if there is any exception.\n",
    "        \"\"\"\n",
    "        if drop_table:   \n",
    "            try:                 \n",
    "                #print(\"Drop table!\")\n",
    "                curs.execute(\"DROP TABLE %s.%s\" %(schemaName, tableName))\n",
    "                #print(\"Dropped!\")\n",
    "            except Exception:\n",
    "                pass\n",
    "        \n",
    "        try: \n",
    "            dataFrame.columns = dataFrame.columns.str.replace(\"[() -]\", \"_\")\n",
    "            curs.execute(pd.io.sql.get_schema(dataFrame, tableName))\n",
    "        except Exception:\n",
    "            pass\n",
    "        \n",
    "        curs.fast_executemany = True\n",
    "        cols = \", \".join([str(i) for i in dataFrame.columns.tolist()])\n",
    "        wildc =''.join('?, ' * len(dataFrame.columns))\n",
    "        wildc = '(' + wildc[:-2] + ')'\n",
    "        sql = \"INSERT INTO \" + tableName + \" ( \" + cols.replace('-', '_') + \" ) VALUES\" + wildc\n",
    "        #print(sql)\n",
    "        curs.executemany(sql, list(dataFrame.itertuples(index=False, name=None)) )\n",
    "        return True"
   ]
  },
  {
   "cell_type": "markdown",
   "metadata": {},
   "source": [
    "### Conexión a IRIS usando el driver jdbc "
   ]
  },
  {
   "cell_type": "code",
   "execution_count": null,
   "metadata": {},
   "outputs": [],
   "source": [
    "import jaydebeapi\n",
    "#url = \"jdbc:IRIS://192.168.128.1:8091/USER\" \n",
    "url = \"jdbc:IRIS://irisimlsvr:1972/USER\" \n",
    "driver = 'com.intersystems.jdbc.IRISDriver'\n",
    "user = \"SuperUser\"\n",
    "password = \"SYS\"\n",
    "jarfile = \"./intersystems-jdbc-3.1.0.jar\"\n",
    "conn = jaydebeapi.connect(driver, url, [user, password], jarfile)\n",
    "curs = conn.cursor()"
   ]
  },
  {
   "cell_type": "markdown",
   "metadata": {},
   "source": [
    "## 2. Datos\n",
    "\n",
    "Utilizando datos del satélite [Kepler](https://es.wikipedia.org/wiki/Kepler_(telescopio_espacial)) de NASA vamos a predecir si se ha encontrado un exoplaneta.\n",
    "  "
   ]
  },
  {
   "cell_type": "code",
   "execution_count": null,
   "metadata": {},
   "outputs": [],
   "source": [
    "!df"
   ]
  },
  {
   "cell_type": "code",
   "execution_count": null,
   "metadata": {
    "scrolled": true
   },
   "outputs": [],
   "source": [
    "# Importamos los datos\n",
    "df = pd.read_csv('exoplanets_2018.csv')\n",
    "\n",
    "# Vemos el tamaño\n",
    "print(df.shape)\n",
    "\n",
    "# Descripción de los datos\n",
    "df.describe()"
   ]
  },
  {
   "cell_type": "markdown",
   "metadata": {},
   "source": [
    "### Limpieza de los datos\n",
    "\n",
    "#### Renombrar columnas"
   ]
  },
  {
   "cell_type": "code",
   "execution_count": null,
   "metadata": {
    "scrolled": false
   },
   "outputs": [],
   "source": [
    "df = df.rename(columns={'kepid':'KepID',\n",
    "'kepoi_name':'KOIName',\n",
    "'kepler_name':'KeplerName',\n",
    "'koi_disposition':'ExoplanetArchiveDisposition',\n",
    "'koi_pdisposition':'DispositionUsingKeplerData',\n",
    "'koi_score':'DispositionScore',\n",
    "'koi_fpflag_nt':'NotTransit_LikeFalsePositiveFlag',\n",
    "'koi_fpflag_ss':'koi_fpflag_ss',\n",
    "'koi_fpflag_co':'CentroidOffsetFalsePositiveFlag',\n",
    "'koi_fpflag_ec':'EphemerisMatchIndicatesContaminationFalsePositiveFlag',\n",
    "'koi_period':'OrbitalPeriod_days',\n",
    "'koi_period_err1':'OrbitalPeriodUpperUnc_days',\n",
    "'koi_period_err2':'OrbitalPeriodLowerUnc_days',\n",
    "'koi_time0bk':'TransitEpoch_BKJD',\n",
    "'koi_time0bk_err1':'TransitEpochUpperUnc_BKJD',\n",
    "'koi_time0bk_err2':'TransitEpochLowerUnc_BKJD',\n",
    "'koi_impact':'ImpactParamete',\n",
    "'koi_impact_err1':'ImpactParameterUpperUnc',\n",
    "'koi_impact_err2':'ImpactParameterLowerUnc',\n",
    "'koi_duration':'TransitDuration_hrs',\n",
    "'koi_duration_err1':'TransitDurationUpperUnc_hrs',\n",
    "'koi_duration_err2':'TransitDurationLowerUnc_hrs',\n",
    "'koi_depth':'TransitDepth_ppm',\n",
    "'koi_depth_err1':'TransitDepthUpperUnc_ppm',\n",
    "'koi_depth_err2':'TransitDepthLowerUnc_ppm',\n",
    "'koi_prad':'PlanetaryRadius_Earthradii',\n",
    "'koi_prad_err1':'PlanetaryRadiusUpperUnc_Earthradii',\n",
    "'koi_prad_err2':'PlanetaryRadiusLowerUnc_Earthradii',\n",
    "'koi_teq':'EquilibriumTemperature_K',\n",
    "'koi_teq_err1':'EquilibriumTemperatureUpperUnc_K',\n",
    "'koi_teq_err2':'EquilibriumTemperatureLowerUnc_K',\n",
    "'koi_insol':'InsolationFlux_Earthflux',\n",
    "'koi_insol_err1':'InsolationFluxUpperUnc_Earthflux',\n",
    "'koi_insol_err2':'InsolationFluxLowerUnc_Earthflux',\n",
    "'koi_model_snr':'TransitSignal_to_Nois',\n",
    "'koi_tce_plnt_num':'TCEPlanetNumbe',\n",
    "'koi_tce_delivname':'TCEDeliver',\n",
    "'koi_steff':'StellarEffectiveTemperature_K',\n",
    "'koi_steff_err1':'StellarEffectiveTemperatureUpperUnc_K',\n",
    "'koi_steff_err2':'StellarEffectiveTemperatureLowerUnc_K',\n",
    "'koi_slogg':'StellarSurfaceGravity_log10',\n",
    "'koi_slogg_err1':'StellarSurfaceGravityUpperUnc_log10',\n",
    "'koi_slogg_err2':'StellarSurfaceGravityLowerUnc_log10',\n",
    "'koi_srad':'StellarRadius_Solarradii',\n",
    "'koi_srad_err1':'StellarRadiusUpperUnc_Solarradii',\n",
    "'koi_srad_err2':'StellarRadiusLowerUnc_Solarradii',\n",
    "'ra':'RA_decimaldegrees',\n",
    "'dec':'Dec_decimaldegrees',\n",
    "'koi_kepmag':'Kepler-band_mag'\n",
    "})\n",
    "df.head(30)"
   ]
  },
  {
   "cell_type": "markdown",
   "metadata": {
    "scrolled": false
   },
   "source": [
    "## Codificación de valores\n",
    "\n",
    "El catálogo ya contiene una columna que indica si el exoplaneta ha sido confirmado mediante otras observaciones.\n",
    "\n",
    "Vamos a convertir esa columna en 3 valores numéricos y así podemos comparar las predicciones de AutoML con los resultados validados.\n",
    "\n",
    "Exoplaneta confirmado = 2\n",
    "\n",
    "Candidato             = 1\n",
    "\n",
    "Falso positivo        = 0\n",
    "\n",
    "Como hay 3 valores diferentes a predecir es un problema de regresión.\n"
   ]
  },
  {
   "cell_type": "code",
   "execution_count": null,
   "metadata": {},
   "outputs": [],
   "source": [
    "df['ExoplanetConfirmed'] = df['ExoplanetArchiveDisposition'].apply(lambda x: 2 if x == 'CONFIRMED' else 1 if x == 'CANDIDATE' else 0 )"
   ]
  },
  {
   "cell_type": "code",
   "execution_count": null,
   "metadata": {},
   "outputs": [],
   "source": [
    "df.head(30)"
   ]
  },
  {
   "cell_type": "markdown",
   "metadata": {},
   "source": [
    "### Limpieza de datos: quitar datos que no hacen falta "
   ]
  },
  {
   "cell_type": "code",
   "execution_count": null,
   "metadata": {},
   "outputs": [],
   "source": [
    "#df.drop(columns=['KeplerName'], inplace=True)\n",
    "df.drop(columns=['KeplerName','KOIName','EquilibriumTemperatureUpperUnc_K', 'KepID',\n",
    "                 'ExoplanetArchiveDisposition','DispositionUsingKeplerData',\n",
    "                 'NotTransit_LikeFalsePositiveFlag','koi_fpflag_ss','CentroidOffsetFalsePositiveFlag',\n",
    "                 'EphemerisMatchIndicatesContaminationFalsePositiveFlag','TCEDeliver',\n",
    "                 'EquilibriumTemperatureLowerUnc_K'], inplace=True)"
   ]
  },
  {
   "cell_type": "markdown",
   "metadata": {},
   "source": [
    "### Limpieza de datos: aquellos que contengan NaNs"
   ]
  },
  {
   "cell_type": "code",
   "execution_count": null,
   "metadata": {},
   "outputs": [],
   "source": [
    "# Hay columnas sin valores numéricos?\n",
    "df.isna().any()"
   ]
  },
  {
   "cell_type": "code",
   "execution_count": null,
   "metadata": {},
   "outputs": [],
   "source": [
    "df.dropna(inplace=True)"
   ]
  },
  {
   "cell_type": "code",
   "execution_count": null,
   "metadata": {},
   "outputs": [],
   "source": [
    "df.shape"
   ]
  },
  {
   "cell_type": "markdown",
   "metadata": {},
   "source": [
    "# Exploramos los datos"
   ]
  },
  {
   "cell_type": "code",
   "execution_count": null,
   "metadata": {},
   "outputs": [],
   "source": [
    "# Histograms\n",
    "df.hist(figsize=(24,18), zorder=2, rwidth=1.1)\n",
    "plt.show()\n",
    "# Vemos los histogramas de cada columna, nos hacemos una idea de cuántos casos con valor parecido hay"
   ]
  },
  {
   "cell_type": "code",
   "execution_count": null,
   "metadata": {},
   "outputs": [],
   "source": [
    "# Matriz de correlación: indica la relación entre dos datos diferentes.\n",
    "# Para cada pareja de datos sirve para responder a la pregunta: ¿si un dato aumenta cómo se comparta el otro? \n",
    "# Puede suceder que aumente (entonces la correlación es positiva)\n",
    "# Puede suceder que disminuya (entonces la correlación es negativa)\n",
    "# o que sea indiferente y entonces será 0 o muy próxima a cero \n",
    "plt.figure(figsize=(35,35))\n",
    "corr = df.corr()\n",
    "corr.index = df.columns\n",
    "#matrix = np.triu(df.corr())\n",
    "sns.heatmap(corr, annot = True, cmap='RdYlGn', vmin=-1, vmax=1)\n",
    "plt.title(\"Matrix de correlación\", fontsize=16)\n",
    "plt.show()\n"
   ]
  },
  {
   "cell_type": "markdown",
   "metadata": {},
   "source": [
    "## Dividimos los datos entre entrenamiento y validación"
   ]
  },
  {
   "cell_type": "code",
   "execution_count": null,
   "metadata": {},
   "outputs": [],
   "source": [
    "train, test = train_test_split(df, random_state=1, test_size=.40)"
   ]
  },
  {
   "cell_type": "code",
   "execution_count": null,
   "metadata": {},
   "outputs": [],
   "source": [
    "iris_schema = 'SQLUser'\n",
    "iris_table = 'KeplerTrain'"
   ]
  },
  {
   "cell_type": "code",
   "execution_count": null,
   "metadata": {},
   "outputs": [],
   "source": [
    "#Guardar training data\n",
    "to_sql_iris(curs, train, iris_table, iris_schema, drop_table=True)   \n"
   ]
  },
  {
   "cell_type": "code",
   "execution_count": null,
   "metadata": {},
   "outputs": [],
   "source": [
    "#Guardar testing data\n",
    "iris_table='KeplerTesting'\n",
    "to_sql_iris(curs, test, iris_table, iris_schema, drop_table=True)   \n",
    "    "
   ]
  },
  {
   "cell_type": "markdown",
   "metadata": {},
   "source": [
    "# Entrenar modelo"
   ]
  },
  {
   "cell_type": "code",
   "execution_count": null,
   "metadata": {},
   "outputs": [],
   "source": [
    "dataTable = 'SQLUser.KeplerTrain'\n",
    "dataColumn =  'DispositionScore'\n",
    "modelName = \"AutoMLKepler\"  "
   ]
  },
  {
   "cell_type": "code",
   "execution_count": null,
   "metadata": {},
   "outputs": [],
   "source": [
    "#curs.execute(\"Drop MODEL %s\"%(modelName))\n",
    "curs.execute(\"CREATE MODEL %s PREDICTING (%s)  FROM %s\" % (modelName, dataColumn, dataTable))\n",
    "curs.execute(\"TRAIN MODEL %s FROM %s\" % (modelName, dataTable))\n",
    "conn.commit()"
   ]
  },
  {
   "cell_type": "markdown",
   "metadata": {},
   "source": [
    "## Validar el modelo"
   ]
  },
  {
   "cell_type": "code",
   "execution_count": null,
   "metadata": {
    "scrolled": true
   },
   "outputs": [],
   "source": [
    "#curs.execute(\"Drop INFORMATION_SCHEMA.ML_VALIDATION_METRICS\")\n",
    "curs.execute(\"VALIDATE MODEL AutoMLKepler FROM SQLUser.KeplerTesting\")\n",
    "df_val = pd.read_sql(\"SELECT * FROM INFORMATION_SCHEMA.ML_VALIDATION_METRICS \", conn)\n",
    "display(df_val)\n"
   ]
  },
  {
   "cell_type": "markdown",
   "metadata": {},
   "source": [
    "# Predicciones"
   ]
  },
  {
   "cell_type": "code",
   "execution_count": null,
   "metadata": {},
   "outputs": [],
   "source": [
    "dataTablePredict = 'SQLUser.KeplerPredict'\n",
    "dataColumnPredict = \"Predicción\""
   ]
  },
  {
   "cell_type": "code",
   "execution_count": null,
   "metadata": {},
   "outputs": [],
   "source": [
    "#curs.execute(\"Drop table %s\"%(dataTablePredict))\n",
    "dataColumnConfirmed=\"ExoplanetConfirmed\"\n",
    "curs.execute(\"Create Table %s (%s VARCHAR(100), %s VARCHAR(100), %s VARCHAR(100))\" % (dataTablePredict, dataColumnPredict, dataColumn,dataColumnConfirmed))\n",
    "curs.execute(\"INSERT INTO %s  SELECT TOP 50 PREDICT(%s) AS %s, %s, %s FROM %s\" % (dataTablePredict, modelName, dataColumnPredict, dataColumn,dataColumnConfirmed, dataTable))"
   ]
  },
  {
   "cell_type": "code",
   "execution_count": null,
   "metadata": {},
   "outputs": [],
   "source": []
  },
  {
   "cell_type": "code",
   "execution_count": null,
   "metadata": {},
   "outputs": [],
   "source": [
    "from IPython.display import display\n",
    "\n",
    "df1 = pd.read_sql(\"SELECT * from %s ORDER BY ID\" % dataTablePredict, conn)\n",
    "display(df1)\n",
    "\n",
    "#Exoplaneta confirmado = 2\n",
    "#Candidato             = 1\n",
    "#Falso positivo        = 0"
   ]
  },
  {
   "cell_type": "code",
   "execution_count": null,
   "metadata": {},
   "outputs": [],
   "source": [
    "df3 = pd.read_sql(\"SELECT * FROM INFORMATION_SCHEMA.ML_TRAINED_MODELS\", conn)\n",
    "display(df3)"
   ]
  },
  {
   "cell_type": "markdown",
   "metadata": {},
   "source": [
    "# Conclusiones\n",
    "Entrenar un modelo con IRIS es sencillo. En este caso los resultados son buenos y no hace falta mucho trabajo.\n",
    "\n",
    "IRIS se encarga de todo el proceso:\n",
    "\n",
    "1. Almacena los datos\n",
    "1. Limpia los datos\n",
    "2. Entrena el modelo y guardar el resultado\n",
    "3. Valida el modelo\n",
    "4. Puede predecir probabilidades usando el modelo\n",
    "5. Despliega el modelo y hace predicciones"
   ]
  },
  {
   "cell_type": "markdown",
   "metadata": {},
   "source": [
    "## Detección de exoplanetas\n",
    "Generalmente se detectan midiendo la variación del brillo\n"
   ]
  },
  {
   "attachments": {
    "image.png": {
     "image/png": "[encoded data removed]"
    }
   },
   "cell_type": "markdown",
   "metadata": {},
   "source": [
    "![image.png](attachment:image.png)\n",
    "Créditos: [NASA](https://exoplanets.nasa.gov/resources/280/light-curve-of-a-planet-transiting-its-star/)"
   ]
  },
  {
   "cell_type": "markdown",
   "metadata": {},
   "source": [
    "Vídeo de NASA del tránsito de un planeta:\n",
    "\n",
    "https://youtu.be/8v4SRfmoTuU"
   ]
  },
  {
   "cell_type": "markdown",
   "metadata": {},
   "source": [
    "TESS es el sucesor de Kepler:\n",
    "\n",
    "https://youtu.be/uOxuTLPAlzI"
   ]
  },
  {
   "cell_type": "markdown",
   "metadata": {},
   "source": [
    "Archivo con todos los datos de exoplanetas de NASA:\n",
    "\n",
    "https://exoplanetarchive.ipac.caltech.edu/"
   ]
  },
  {
   "cell_type": "markdown",
   "metadata": {},
   "source": [
    "El satélite Cheops de ESA está buscando exoplanetas:\n",
    "    \n",
    " [Cheops](https://www.esa.int/Science_Exploration/Space_Science/Cheops/A_perfect_blur_First_image_by_exoplanet_watcher_Cheops)"
   ]
  },
  {
   "cell_type": "markdown",
   "metadata": {},
   "source": [
    "ESA tiene otro satélite llamado Gaia que está midiendo el brillo de estrellas:"
   ]
  },
  {
   "cell_type": "markdown",
   "metadata": {},
   "source": [
    "Principales [descubrimientos](https://www.esa.int/ESA_Multimedia/Videos/2020/11/Gaia_s_Milky_Way_discoveries)"
   ]
  },
  {
   "cell_type": "markdown",
   "metadata": {},
   "source": [
    "Datos de Gaia: [Gaia](https://www.cosmos.esa.int/web/gaia/mission-numbers)"
   ]
  },
  {
   "cell_type": "code",
   "execution_count": null,
   "metadata": {},
   "outputs": [],
   "source": []
  },
  {
   "cell_type": "code",
   "execution_count": null,
   "metadata": {},
   "outputs": [],
   "source": []
  },
  {
   "cell_type": "code",
   "execution_count": null,
   "metadata": {},
   "outputs": [],
   "source": []
  },
  {
   "cell_type": "code",
   "execution_count": null,
   "metadata": {},
   "outputs": [],
   "source": []
  },
  {
   "cell_type": "code",
   "execution_count": null,
   "metadata": {},
   "outputs": [],
   "source": []
  },
  {
   "cell_type": "code",
   "execution_count": null,
   "metadata": {
    "scrolled": true
   },
   "outputs": [],
   "source": []
  },
  {
   "cell_type": "code",
   "execution_count": null,
   "metadata": {},
   "outputs": [],
   "source": []
  },
  {
   "cell_type": "code",
   "execution_count": null,
   "metadata": {},
   "outputs": [],
   "source": []
  },
  {
   "cell_type": "code",
   "execution_count": null,
   "metadata": {
    "scrolled": true
   },
   "outputs": [],
   "source": []
  },
  {
   "cell_type": "code",
   "execution_count": null,
   "metadata": {},
   "outputs": [],
   "source": [
    "                                                                                    "
   ]
  },
  {
   "cell_type": "code",
   "execution_count": null,
   "metadata": {},
   "outputs": [],
   "source": []
  },
  {
   "cell_type": "code",
   "execution_count": null,
   "metadata": {},
   "outputs": [],
   "source": []
  },
  {
   "cell_type": "code",
   "execution_count": null,
   "metadata": {},
   "outputs": [],
   "source": [
    "                                    "
   ]
  },
  {
   "cell_type": "code",
   "execution_count": null,
   "metadata": {},
   "outputs": [],
   "source": []
  },
  {
   "cell_type": "code",
   "execution_count": null,
   "metadata": {},
   "outputs": [],
   "source": []
  }
 ],
 "metadata": {
  "kernelspec": {
   "display_name": "Python 3",
   "language": "python",
   "name": "python3"
  },
  "language_info": {
   "codemirror_mode": {
    "name": "ipython",
    "version": 3
   },
   "file_extension": ".py",
   "mimetype": "text/x-python",
   "name": "python",
   "nbconvert_exporter": "python",
   "pygments_lexer": "ipython3",
   "version": "3.6.9"
  }
 },
 "nbformat": 4,
 "nbformat_minor": 4
}
